{
 "cells": [
  {
   "cell_type": "code",
   "execution_count": 2,
   "metadata": {},
   "outputs": [],
   "source": [
    "import matplotlib.pyplot as plt\n",
    "import numpy as np\n",
    "import stim \n",
    "import pymatching as pm\n",
    "from qecsim.graphtools import mwpm\n",
    "import networkx as nx\n",
    "import sys\n",
    "sys.path.append(\"../\")\n",
    "from src.simulations import SurfaceCodeSim"
   ]
  },
  {
   "cell_type": "markdown",
   "metadata": {},
   "source": [
    "##### Code settings"
   ]
  },
  {
   "cell_type": "code",
   "execution_count": 69,
   "metadata": {},
   "outputs": [
    {
     "data": {
      "text/plain": [
       "{'x': {(1, 0, 1): 4,\n",
       "  (2, 1, 1): 6,\n",
       "  (1, 2, 1): 9,\n",
       "  (2, 3, 1): 11,\n",
       "  (1, 0, 2): 12,\n",
       "  (2, 1, 2): 14,\n",
       "  (1, 2, 2): 17,\n",
       "  (2, 3, 2): 19},\n",
       " 'z': {(0, 2, 0): 0,\n",
       "  (1, 1, 0): 1,\n",
       "  (2, 2, 0): 2,\n",
       "  (3, 1, 0): 3,\n",
       "  (1, 1, 1): 5,\n",
       "  (3, 1, 1): 7,\n",
       "  (0, 2, 1): 8,\n",
       "  (2, 2, 1): 10,\n",
       "  (1, 1, 2): 13,\n",
       "  (3, 1, 2): 15,\n",
       "  (0, 2, 2): 16,\n",
       "  (2, 2, 2): 18,\n",
       "  (0, 2, 3): 20,\n",
       "  (1, 1, 3): 21,\n",
       "  (2, 2, 3): 22,\n",
       "  (3, 1, 3): 23}}"
      ]
     },
     "execution_count": 69,
     "metadata": {},
     "output_type": "execute_result"
    }
   ],
   "source": [
    "reps = 3\n",
    "code_sz = 3\n",
    "p = 1e-3\n",
    "n_shots = 1000\n",
    "\n",
    "sim = SurfaceCodeSim(reps, code_sz, p, n_shots)\n",
    "detectors, syndromes, flips, _ = sim.generate_syndromes()\n",
    "detector_dict = sim.detector_indx\n",
    "detector_dict"
   ]
  },
  {
   "cell_type": "markdown",
   "metadata": {},
   "source": [
    "##### PyMatching"
   ]
  },
  {
   "cell_type": "code",
   "execution_count": 92,
   "metadata": {},
   "outputs": [
    {
     "data": {
      "text/plain": [
       "array([[5, 8],\n",
       "       [3, 6]], dtype=int64)"
      ]
     },
     "execution_count": 92,
     "metadata": {},
     "output_type": "execute_result"
    }
   ],
   "source": [
    "# test a complete graph\n",
    "n = 10\n",
    "g = nx.complete_graph(n)\n",
    "g.nodes[0][\"is_boundary\"] = True\n",
    "g.nodes[1][\"is_boundary\"] = True\n",
    "matching = pm.Matching.from_networkx(g)\n",
    "\n",
    "s = [True, True, False, True, False] * 2\n",
    "matching.decode_to_edges_array(s)    \n",
    "# nx.draw(g)"
   ]
  },
  {
   "cell_type": "markdown",
   "metadata": {},
   "source": [
    "##### Try out MWPM in QECSIM"
   ]
  },
  {
   "cell_type": "code",
   "execution_count": 85,
   "metadata": {},
   "outputs": [
    {
     "name": "stdout",
     "output_type": "stream",
     "text": [
      "{(0, 1): 2, (1, 2): 4, (2, 3): 12, (1, 3): 7, (0, 2): 21, (1, 4): 6}\n",
      "{(0, 1), (2, 3)}\n",
      "<class 'set'>\n"
     ]
    }
   ],
   "source": [
    "# our edges will be of the form:\n",
    "edges = np.array([[0, 1, 2, 3, 1, 2, 3, 4], [1, 0, 1, 2, 3, 0, 1, 1]])\n",
    "weights = np.array([0, 2, 4, 12, 4, 21, 7, 6])\n",
    "edges = {tuple(sorted(x)): w for x, w in zip(edges.T, weights)}\n",
    "matched_edges = mwpm(edges)\n",
    "\n",
    "print(edges)\n",
    "print(matched_edges)\n",
    "print(f\"{type(matched_edges)}\")\n"
   ]
  },
  {
   "cell_type": "code",
   "execution_count": 88,
   "metadata": {},
   "outputs": [
    {
     "data": {
      "text/plain": [
       "[3, 4]"
      ]
     },
     "execution_count": 88,
     "metadata": {},
     "output_type": "execute_result"
    }
   ],
   "source": [
    "x = [1, 2, 3, 4]\n",
    "x[2:]"
   ]
  },
  {
   "cell_type": "markdown",
   "metadata": {},
   "source": [
    "##### Want to count how many edges pass the upper boundary"
   ]
  },
  {
   "cell_type": "code",
   "execution_count": 18,
   "metadata": {},
   "outputs": [
    {
     "name": "stdout",
     "output_type": "stream",
     "text": [
      "Distance: 2.00, class: False\n",
      "Distance: 2.24, class: False\n",
      "Distance: 6.71, class: True\n",
      "Distance: 4.12, class: False\n"
     ]
    },
    {
     "data": {
      "text/plain": [
       "(-1.0, 11.0)"
      ]
     },
     "execution_count": 18,
     "metadata": {},
     "output_type": "execute_result"
    },
    {
     "data": {
      "image/png": "[encoded data removed]",
      "text/plain": [
       "<Figure size 640x480 with 1 Axes>"
      ]
     },
     "metadata": {},
     "output_type": "display_data"
    }
   ],
   "source": [
    "def cylinder_distance(x, y, width, wrap_axis=1, manhattan=False):\n",
    "    # x, y have coordinates (x, y, t)\n",
    "    \n",
    "    ds = np.abs(x - y)\n",
    "    eq_class = ds[:, wrap_axis] > 0.5 * width\n",
    "    ds[eq_class, wrap_axis] = width - ds[eq_class, wrap_axis]\n",
    "    \n",
    "    if not manhattan:\n",
    "        return np.sqrt((ds ** 2).sum(axis=1)), eq_class\n",
    "    else:\n",
    "        return ds.sum(axis=1), eq_class\n",
    "    \n",
    "p1s = np.array([\n",
    "    [1, 2, 3, 4],\n",
    "    [7, 2, 9, 2]\n",
    "])\n",
    "\n",
    "p2s = np.array([\n",
    "    [3, 4, 9, 0],\n",
    "    [7, 3, 2, 1]\n",
    "])\n",
    "\n",
    "distances, eq_class = cylinder_distance(p1s.T, p2s.T, 10, manhattan=False)\n",
    "\n",
    "fig, ax = plt.subplots()\n",
    "ax.scatter(p1s[0, :], p1s[1, :])\n",
    "ax.scatter(p2s[0, :], p2s[1, :])\n",
    "for p1, p2, dist, eq in zip(p1s.T, p2s.T, distances, eq_class):\n",
    "    ax.plot([p1[0], p2[0]], [p1[1], p2[1]], \"b\")\n",
    "    print(f\"Distance: {dist:.2f}, class: {eq}\")\n",
    "    \n",
    "ax.set_xlim([-1, 11])\n",
    "ax.set_ylim([-1, 11])"
   ]
  }
 ],
 "metadata": {
  "kernelspec": {
   "display_name": "dml_cpu",
   "language": "python",
   "name": "python3"
  },
  "language_info": {
   "codemirror_mode": {
    "name": "ipython",
    "version": 3
   },
   "file_extension": ".py",
   "mimetype": "text/x-python",
   "name": "python",
   "nbconvert_exporter": "python",
   "pygments_lexer": "ipython3",
   "version": "3.11.6"
  }
 },
 "nbformat": 4,
 "nbformat_minor": 2
}
