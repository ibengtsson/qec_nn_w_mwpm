{
 "cells": [
  {
   "cell_type": "code",
   "execution_count": 20,
   "metadata": {},
   "outputs": [],
   "source": [
    "import matplotlib.pyplot as plt\n",
    "import numpy as np\n",
    "import stim \n",
    "import pymatching as pm\n",
    "import qecsim as qs\n",
    "import networkx as nx\n",
    "import sys\n",
    "sys.path.append(\"../\")\n",
    "from src.simulations import SurfaceCodeSim"
   ]
  },
  {
   "cell_type": "markdown",
   "metadata": {},
   "source": [
    "##### Code settings"
   ]
  },
  {
   "cell_type": "code",
   "execution_count": 19,
   "metadata": {},
   "outputs": [],
   "source": [
    "reps = 3\n",
    "code_sz = 3\n",
    "p = 1e-3\n",
    "n_shots = 1000\n",
    "\n",
    "sim = SurfaceCodeSim(reps, code_sz, p, n_shots)\n",
    "detectors, syndromes, flips, _ = sim.generate_syndromes()"
   ]
  },
  {
   "cell_type": "markdown",
   "metadata": {},
   "source": [
    "##### PyMatching"
   ]
  },
  {
   "cell_type": "code",
   "execution_count": 35,
   "metadata": {},
   "outputs": [
    {
     "data": {
      "text/plain": [
       "array([], dtype=uint8)"
      ]
     },
     "execution_count": 35,
     "metadata": {},
     "output_type": "execute_result"
    }
   ],
   "source": [
    "# test a complete graph\n",
    "n = 10\n",
    "g = nx.complete_graph(n)\n",
    "g.nodes[0][\"is_boundary\"] = True\n",
    "g.nodes[1][\"is_boundary\"] = True\n",
    "matching = pm.Matching.from_networkx(g)\n",
    "\n",
    "s = [True, True, False, True, False] * 2\n",
    "matching.decode(s)    "
   ]
  },
  {
   "cell_type": "markdown",
   "metadata": {},
   "source": [
    "##### Try out MWPM in QECSIM"
   ]
  },
  {
   "cell_type": "code",
   "execution_count": 60,
   "metadata": {},
   "outputs": [
    {
     "name": "stdout",
     "output_type": "stream",
     "text": [
      "[0 1] 0\n",
      "[1 0] 2\n",
      "[2 1] 4\n",
      "[3 2] 12\n",
      "[1 3] 4\n",
      "[2 0] 21\n",
      "[3 1] 7\n"
     ]
    },
    {
     "data": {
      "text/plain": [
       "{(0, 1): 2, (1, 2): 4, (2, 3): 12, (1, 3): 7, (0, 2): 21}"
      ]
     },
     "execution_count": 60,
     "metadata": {},
     "output_type": "execute_result"
    }
   ],
   "source": [
    "# our edges will be of the form:\n",
    "edges = np.array([[0, 1, 2, 3, 1, 2, 3], [1, 0, 1, 2, 3, 0, 1]])\n",
    "weights = np.array([0, 2, 4, 12, 4, 21, 7])\n",
    "for e, w in zip(edges.T, weights):\n",
    "    print(e, w)\n",
    "edges = {tuple(sorted(x)): w for x, w in zip(edges.T, weights)}\n",
    "edges\n"
   ]
  }
 ],
 "metadata": {
  "kernelspec": {
   "display_name": "dml_cpu",
   "language": "python",
   "name": "python3"
  },
  "language_info": {
   "codemirror_mode": {
    "name": "ipython",
    "version": 3
   },
   "file_extension": ".py",
   "mimetype": "text/x-python",
   "name": "python",
   "nbconvert_exporter": "python",
   "pygments_lexer": "ipython3",
   "version": "3.11.6"
  }
 },
 "nbformat": 4,
 "nbformat_minor": 2
}
